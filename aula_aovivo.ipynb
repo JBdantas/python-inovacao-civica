{
  "cells": [
    {
      "cell_type": "markdown",
      "metadata": {
        "id": "view-in-github",
        "colab_type": "text"
      },
      "source": [
        "<a href=\"https://colab.research.google.com/github/JBdantas/python-inovacao-civica/blob/edicao-2/aula_aovivo.ipynb\" target=\"_parent\"><img src=\"https://colab.research.google.com/assets/colab-badge.svg\" alt=\"Open In Colab\"/></a>"
      ]
    },
    {
      "cell_type": "markdown",
      "id": "32600998",
      "metadata": {
        "id": "32600998"
      },
      "source": [
        "# Exercício\n",
        "\n",
        "Construa um programa que:\n",
        " - Pergunte a usuária 2 números inteiros;\n",
        " - Crie uma lista numérica do intervalo;\n",
        " - Se o número for divisível por 3, substitua-o por \"Tecnologia\";\n",
        " - Se o número for divisível por 5, substitua-o por \"Cívica\";\n",
        " - Se o número for divisível por 3 e 5, substitua-o por \"Tecnologia Cívica\"."
      ]
    },
    {
      "cell_type": "code",
      "source": [
        "num1 = int(input('Fale o primeiro número (número inteiro): '))"
      ],
      "metadata": {
        "colab": {
          "base_uri": "https://localhost:8080/"
        },
        "id": "2TIRieASWx1w",
        "outputId": "159b6758-fc1c-4bc4-a822-b663ab4c79a6"
      },
      "id": "2TIRieASWx1w",
      "execution_count": 1,
      "outputs": [
        {
          "name": "stdout",
          "output_type": "stream",
          "text": [
            "Fale o primeiro número (número inteiro): 3\n"
          ]
        }
      ]
    },
    {
      "cell_type": "code",
      "source": [
        "num2 = int(input('Fale o segundo número (número inteiro):: '))"
      ],
      "metadata": {
        "colab": {
          "base_uri": "https://localhost:8080/"
        },
        "id": "NdsPXzWwYPVi",
        "outputId": "6aa9f498-32bf-4d7d-f46b-a7ab308c5831"
      },
      "id": "NdsPXzWwYPVi",
      "execution_count": 2,
      "outputs": [
        {
          "name": "stdout",
          "output_type": "stream",
          "text": [
            "Fale o segundo número (número inteiro):: 32\n"
          ]
        }
      ]
    },
    {
      "cell_type": "code",
      "source": [
        "#Crie uma lista numérica do intervalo;\n",
        "#função range(inicio, fim,passo)\n",
        "lista = list(range(num1, num2))"
      ],
      "metadata": {
        "id": "8W-Vl1YvCOEC"
      },
      "id": "8W-Vl1YvCOEC",
      "execution_count": 4,
      "outputs": []
    },
    {
      "cell_type": "code",
      "source": [
        "lista_nova = []"
      ],
      "metadata": {
        "id": "WbIIMsdq-5jO"
      },
      "id": "WbIIMsdq-5jO",
      "execution_count": 13,
      "outputs": []
    },
    {
      "cell_type": "code",
      "source": [
        "for numero in lista:\n",
        "   #Se o número for divisível por 3 e 5, substitua-o por \"Tecnologia Cívica\"\n",
        "  if numero % 3 == 0 and numero % 5 == 0:\n",
        "    lista_nova.append('Tecnologia Cívica')\n",
        "  \n",
        "  #Se o número for divisível por 3, substitua-o por \"Tecnologia\";\n",
        "  elif numero % 5 == 0:\n",
        "    lista_nova.append('Tecnologia')\n",
        "  \n",
        "  #Se o número for divisível por 3 e 5, substitua-o por \"Tecnologia Cívica\"\n",
        "  elif numero % 5 == 0:\n",
        "    lista_nova.append('Cívica')\n",
        "\n",
        "  #Número fora da regra\n",
        "  else:\n",
        "    lista_nova.append(numero)"
      ],
      "metadata": {
        "colab": {
          "base_uri": "https://localhost:8080/",
          "height": 200
        },
        "id": "LRzxHJGv7Vgc",
        "outputId": "55d760fc-ac75-405e-d8ac-66e9b63ea98d"
      },
      "id": "LRzxHJGv7Vgc",
      "execution_count": 16,
      "outputs": [
        {
          "output_type": "error",
          "ename": "TypeError",
          "evalue": "ignored",
          "traceback": [
            "\u001b[0;31m---------------------------------------------------------------------------\u001b[0m",
            "\u001b[0;31mTypeError\u001b[0m                                 Traceback (most recent call last)",
            "\u001b[0;32m<ipython-input-16-261b18d6c338>\u001b[0m in \u001b[0;36m<module>\u001b[0;34m\u001b[0m\n\u001b[1;32m     14\u001b[0m   \u001b[0;31m#Número fora da regra\u001b[0m\u001b[0;34m\u001b[0m\u001b[0;34m\u001b[0m\u001b[0;34m\u001b[0m\u001b[0m\n\u001b[1;32m     15\u001b[0m   \u001b[0;32melse\u001b[0m\u001b[0;34m:\u001b[0m\u001b[0;34m\u001b[0m\u001b[0;34m\u001b[0m\u001b[0m\n\u001b[0;32m---> 16\u001b[0;31m     \u001b[0mlista_nova\u001b[0m\u001b[0;34m.\u001b[0m\u001b[0mappend\u001b[0m\u001b[0;34m(\u001b[0m\u001b[0mnumero\u001b[0m\u001b[0;34m,\u001b[0m \u001b[0;34m'/n'\u001b[0m\u001b[0;34m)\u001b[0m\u001b[0;34m\u001b[0m\u001b[0;34m\u001b[0m\u001b[0m\n\u001b[0m",
            "\u001b[0;31mTypeError\u001b[0m: append() takes exactly one argument (2 given)"
          ]
        }
      ]
    },
    {
      "cell_type": "code",
      "source": [
        "print(lista_nova)"
      ],
      "metadata": {
        "colab": {
          "base_uri": "https://localhost:8080/"
        },
        "id": "NmNbMW3PAnHu",
        "outputId": "a8fa3568-1de9-478c-f48f-86f3c7318235"
      },
      "id": "NmNbMW3PAnHu",
      "execution_count": 19,
      "outputs": [
        {
          "output_type": "stream",
          "name": "stdout",
          "text": [
            "[3, 4, 'Tecnologia', 6, 7, 8, 9, 'Tecnologia', 11, 12, 13, 14, 'Tecnologia Cívica', 16, 17, 18, 19, 'Tecnologia', 21, 22, 23, 24, 'Tecnologia', 26, 27, 28, 29, 'Tecnologia Cívica', 31]\n"
          ]
        }
      ]
    }
  ],
  "metadata": {
    "kernelspec": {
      "display_name": "Python 3 (ipykernel)",
      "language": "python",
      "name": "python3"
    },
    "language_info": {
      "codemirror_mode": {
        "name": "ipython",
        "version": 3
      },
      "file_extension": ".py",
      "mimetype": "text/x-python",
      "name": "python",
      "nbconvert_exporter": "python",
      "pygments_lexer": "ipython3",
      "version": "3.10.4"
    },
    "colab": {
      "provenance": [],
      "collapsed_sections": [],
      "include_colab_link": true
    }
  },
  "nbformat": 4,
  "nbformat_minor": 5
}